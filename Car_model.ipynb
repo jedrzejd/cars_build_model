{
 "cells": [
  {
   "cell_type": "code",
   "execution_count": 4,
   "metadata": {
    "ExecuteTime": {
     "end_time": "2021-02-12T10:31:13.733534Z",
     "start_time": "2021-02-12T10:31:13.727190Z"
    }
   },
   "outputs": [],
   "source": [
    "import pandas as pd\n",
    "import numpy as np\n",
    "\n",
    "import xgboost as xgb\n",
    "import lightgbm as lgb\n",
    "\n",
    "from sklearn.dummy import DummyRegressor\n",
    "from sklearn.tree import DecisionTreeRegressor\n",
    "from sklearn.ensemble import RandomForestRegressor\n",
    "\n",
    "import matplotlib.pyplot as plt\n",
    "import seaborn as sns\n",
    "\n",
    "from sklearn.metrics import mean_absolute_error as mae\n",
    "from sklearn.model_selection import cross_val_score, KFold\n",
    "\n",
    "import eli5\n",
    "from eli5.sklearn import PermutationImportance"
   ]
  },
  {
   "cell_type": "code",
   "execution_count": 2,
   "metadata": {
    "ExecuteTime": {
     "end_time": "2021-02-12T10:31:12.661144Z",
     "start_time": "2021-02-12T10:31:12.657888Z"
    }
   },
   "outputs": [],
   "source": [
    "pd.set_option('display.max_columns', 250)"
   ]
  },
  {
   "cell_type": "code",
   "execution_count": 3,
   "metadata": {
    "ExecuteTime": {
     "end_time": "2021-02-12T10:31:13.724667Z",
     "start_time": "2021-02-12T10:31:12.663873Z"
    }
   },
   "outputs": [
    {
     "data": {
      "text/plain": [
       "(201357, 101)"
      ]
     },
     "execution_count": 3,
     "metadata": {},
     "output_type": "execute_result"
    }
   ],
   "source": [
    "df = pd.read_pickle('data/car_clean.pickle')\n",
    "df.shape"
   ]
  },
  {
   "cell_type": "code",
   "execution_count": 5,
   "metadata": {
    "ExecuteTime": {
     "end_time": "2021-02-12T10:31:17.476702Z",
     "start_time": "2021-02-12T10:31:17.168132Z"
    }
   },
   "outputs": [
    {
     "data": {
      "image/png": "[encoded data removed]",
      "text/plain": [
       "<Figure size 432x288 with 1 Axes>"
      ]
     },
     "metadata": {
      "needs_background": "light"
     },
     "output_type": "display_data"
    }
   ],
   "source": [
    "sns.distplot(np.log2(df['Cena']));"
   ]
  },
  {
   "cell_type": "code",
   "execution_count": 6,
   "metadata": {
    "ExecuteTime": {
     "end_time": "2021-02-12T10:31:22.888964Z",
     "start_time": "2021-02-12T10:31:22.882522Z"
    }
   },
   "outputs": [],
   "source": [
    "def run_model(model, df, feats):\n",
    "    X = df[ feats ].values\n",
    "    y = df['Cena'].values\n",
    "    \n",
    "    scores = []\n",
    "    \n",
    "    folds = KFold(n_splits=3, shuffle=True, random_state=0)\n",
    "    for train_index, test_index in folds.split(X, y):\n",
    "        X_train, X_test = X[train_index], X[test_index]\n",
    "        y_train, y_test = y[train_index], y[test_index]\n",
    "        \n",
    "        y_train = np.log2( y_train )\n",
    "        model.fit(X_train, y_train)\n",
    "        \n",
    "        y_pred = model.predict(X_test)\n",
    "        y_pred = np.exp2( y_pred )\n",
    "        scores.append(mae(y_test, y_pred))\n",
    "        \n",
    "#     scores = cross_val_score(model, X, y, cv = 3, scoring = \"neg_mean_absolute_error\" )\n",
    "    return np.mean(scores), np.std(scores)"
   ]
  },
  {
   "cell_type": "code",
   "execution_count": 7,
   "metadata": {
    "ExecuteTime": {
     "end_time": "2021-02-12T10:31:25.355728Z",
     "start_time": "2021-02-12T10:31:25.334905Z"
    }
   },
   "outputs": [
    {
     "data": {
      "text/plain": [
       "array(['Model pojazdu', 'Wersja', 'Generacja', 'Opis'], dtype=object)"
      ]
     },
     "execution_count": 7,
     "metadata": {},
     "output_type": "execute_result"
    }
   ],
   "source": [
    "# cat_feats = df.select_dtypes(np.object).columns.values\n",
    "# cat_feats"
   ]
  },
  {
   "cell_type": "code",
   "execution_count": 9,
   "metadata": {
    "ExecuteTime": {
     "end_time": "2021-02-09T11:11:30.901516Z",
     "start_time": "2021-02-09T11:11:25.419517Z"
    }
   },
   "outputs": [],
   "source": [
    "# SUFF = '__cat'\n",
    "# for feat in cat_feats[:-1]:\n",
    "#     size = len(df[feat].unique())\n",
    "#     if size >= 10:\n",
    "#         df[feat + SUFF] = df[feat].factorize()[0]\n",
    "#     else:\n",
    "#         df = pd.concat([df,pd.get_dummies(df[feat], prefix=feat)], axis=1)\n"
   ]
  },
  {
   "cell_type": "code",
   "execution_count": 8,
   "metadata": {
    "ExecuteTime": {
     "end_time": "2021-02-12T10:31:41.743702Z",
     "start_time": "2021-02-12T10:31:41.741049Z"
    }
   },
   "outputs": [],
   "source": [
    "black_list = ['Cena', 'Model pojazdu__cat']"
   ]
  },
  {
   "cell_type": "code",
   "execution_count": 9,
   "metadata": {
    "ExecuteTime": {
     "end_time": "2021-02-12T10:31:42.324470Z",
     "start_time": "2021-02-12T10:31:42.233177Z"
    }
   },
   "outputs": [],
   "source": [
    "basic_feats = df.select_dtypes(np.number).columns.values\n",
    "basic_feats = [x for x in basic_feats if x not in black_list]"
   ]
  },
  {
   "cell_type": "code",
   "execution_count": 11,
   "metadata": {
    "ExecuteTime": {
     "end_time": "2021-02-12T10:32:03.233445Z",
     "start_time": "2021-02-12T10:32:03.038484Z"
    }
   },
   "outputs": [
    {
     "data": {
      "text/plain": [
       "819611.8000000279"
      ]
     },
     "execution_count": 11,
     "metadata": {},
     "output_type": "execute_result"
    }
   ],
   "source": [
    "up = np.percentile(df['Cena'],99.9)\n",
    "df1 = df.copy()\n",
    "df1 = df1[df1['Cena'] < up]\n",
    "up"
   ]
  },
  {
   "cell_type": "code",
   "execution_count": 12,
   "metadata": {
    "ExecuteTime": {
     "end_time": "2021-02-12T10:32:06.846311Z",
     "start_time": "2021-02-12T10:32:06.343306Z"
    }
   },
   "outputs": [
    {
     "data": {
      "text/plain": [
       "(43529.1327031434, 20.461128572061934)"
      ]
     },
     "execution_count": 12,
     "metadata": {},
     "output_type": "execute_result"
    }
   ],
   "source": [
    "model = DummyRegressor(strategy='median')\n",
    "run_model(model, df1, basic_feats)"
   ]
  },
  {
   "cell_type": "code",
   "execution_count": 53,
   "metadata": {
    "ExecuteTime": {
     "end_time": "2021-02-09T11:50:07.925334Z",
     "start_time": "2021-02-09T11:50:02.054874Z"
    }
   },
   "outputs": [
    {
     "data": {
      "text/plain": [
       "(16842.24233725219, 193.6602152548799)"
      ]
     },
     "execution_count": 53,
     "metadata": {},
     "output_type": "execute_result"
    }
   ],
   "source": [
    "model = DecisionTreeRegressor(max_depth=5, random_state=0)\n",
    "run_model(model, df1, basic_feats)#19100"
   ]
  },
  {
   "cell_type": "code",
   "execution_count": 54,
   "metadata": {
    "ExecuteTime": {
     "end_time": "2021-02-09T11:52:57.061354Z",
     "start_time": "2021-02-09T11:50:15.219566Z"
    }
   },
   "outputs": [
    {
     "data": {
      "text/plain": [
       "(15994.653771752424, 308.0445023202748)"
      ]
     },
     "execution_count": 54,
     "metadata": {},
     "output_type": "execute_result"
    }
   ],
   "source": [
    "model = RandomForestRegressor(max_depth=5, n_estimators = 50, random_state=0)\n",
    "run_model(model, df1, basic_feats)#18221"
   ]
  },
  {
   "cell_type": "code",
   "execution_count": 55,
   "metadata": {
    "ExecuteTime": {
     "end_time": "2021-02-09T11:53:34.771188Z",
     "start_time": "2021-02-09T11:52:57.063655Z"
    }
   },
   "outputs": [
    {
     "data": {
      "text/plain": [
       "(9750.943700518872, 99.59635044273006)"
      ]
     },
     "execution_count": 55,
     "metadata": {},
     "output_type": "execute_result"
    }
   ],
   "source": [
    "model = xgb.XGBRegressor(max_depth = 5, n_estimators = 50, random_state=0)\n",
    "run_model(model, df1, basic_feats)#13682"
   ]
  },
  {
   "cell_type": "code",
   "execution_count": 15,
   "metadata": {
    "ExecuteTime": {
     "end_time": "2021-02-12T10:32:41.924610Z",
     "start_time": "2021-02-12T10:32:39.015776Z"
    }
   },
   "outputs": [
    {
     "name": "stdout",
     "output_type": "stream",
     "text": [
      "[LightGBM] [Warning] Accuracy may be bad since you didn't explicitly set num_leaves OR 2^max_depth > num_leaves. (num_leaves=31).\n",
      "[LightGBM] [Warning] Accuracy may be bad since you didn't explicitly set num_leaves OR 2^max_depth > num_leaves. (num_leaves=31).\n",
      "[LightGBM] [Warning] Accuracy may be bad since you didn't explicitly set num_leaves OR 2^max_depth > num_leaves. (num_leaves=31).\n"
     ]
    },
    {
     "data": {
      "text/plain": [
       "(10608.862977760313, 118.87742245083223)"
      ]
     },
     "execution_count": 15,
     "metadata": {},
     "output_type": "execute_result"
    }
   ],
   "source": [
    "# perhaps the hyperparameters can be further optimized, but the time-to-result ratio is optimal here\n",
    "\n",
    "lgbm_parms = {\n",
    "    'max_depth': 5,\n",
    "    'n_estimators': 50,\n",
    "    'random_state': 0\n",
    "}\n",
    "model = lgb.LGBMRegressor(**lgbm_parms)\n",
    "run_model(model, df1, basic_feats)\n",
    "# score (6972.534592681524, 51.97959183884229)"
   ]
  },
  {
   "cell_type": "code",
   "execution_count": 17,
   "metadata": {
    "ExecuteTime": {
     "end_time": "2021-02-12T11:28:30.299213Z",
     "start_time": "2021-02-12T11:28:30.069724Z"
    }
   },
   "outputs": [],
   "source": [
    "model = lgb.Booster(model_file = './data/lgb_model_easy.txt')"
   ]
  },
  {
   "cell_type": "code",
   "execution_count": 18,
   "metadata": {
    "ExecuteTime": {
     "end_time": "2021-02-12T11:29:06.915957Z",
     "start_time": "2021-02-12T11:28:31.261795Z"
    }
   },
   "outputs": [],
   "source": [
    "y_pred = model.predict(df1[basic_feats])\n",
    "y_pred = np.exp2( y_pred )"
   ]
  },
  {
   "cell_type": "code",
   "execution_count": 19,
   "metadata": {
    "ExecuteTime": {
     "end_time": "2021-02-12T11:29:06.927692Z",
     "start_time": "2021-02-12T11:29:06.919422Z"
    }
   },
   "outputs": [
    {
     "name": "stdout",
     "output_type": "stream",
     "text": [
      "3541.779498565464\n"
     ]
    }
   ],
   "source": [
    "print(mae(df1['Cena'], y_pred))"
   ]
  },
  {
   "cell_type": "code",
   "execution_count": null,
   "metadata": {},
   "outputs": [],
   "source": []
  }
 ],
 "metadata": {
  "hide_input": false,
  "kernelspec": {
   "display_name": "Python 3",
   "language": "python",
   "name": "python3"
  },
  "language_info": {
   "codemirror_mode": {
    "name": "ipython",
    "version": 3
   },
   "file_extension": ".py",
   "mimetype": "text/x-python",
   "name": "python",
   "nbconvert_exporter": "python",
   "pygments_lexer": "ipython3",
   "version": "3.7.2"
  },
  "toc": {
   "base_numbering": 1,
   "nav_menu": {},
   "number_sections": true,
   "sideBar": true,
   "skip_h1_title": false,
   "title_cell": "Table of Contents",
   "title_sidebar": "Contents",
   "toc_cell": false,
   "toc_position": {},
   "toc_section_display": true,
   "toc_window_display": false
  }
 },
 "nbformat": 4,
 "nbformat_minor": 4
}
